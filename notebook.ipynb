{
 "cells": [
  {
   "cell_type": "markdown",
   "metadata": {},
   "source": [
    "# Scrape Tijuana districts\n",
    "\n",
    "Downloads an electronic map of Tijuana districts from the [Instituto Metropolitano de Planeación de Tijuana](https://www.implantijuana.org/servicios/cartografia/carta-urbana-2010-2030/) website."
   ]
  },
  {
   "cell_type": "code",
   "execution_count": 45,
   "metadata": {
    "colab": {},
    "colab_type": "code",
    "id": "lzJKlVzwUMHY"
   },
   "outputs": [],
   "source": [
    "import json\n",
    "import requests\n",
    "import geopandas as gpd\n",
    "from esridump.esri2geojson import esri2geojson"
   ]
  },
  {
   "cell_type": "code",
   "execution_count": 46,
   "metadata": {
    "colab": {},
    "colab_type": "code",
    "id": "jTh1S9WBUQUj"
   },
   "outputs": [],
   "source": [
    "r = requests.get(\"https://www.arcgis.com/sharing/rest/content/items/d6bf69985ebc4f05b3c19741da9f200a/data\")"
   ]
  },
  {
   "cell_type": "code",
   "execution_count": 47,
   "metadata": {
    "colab": {},
    "colab_type": "code",
    "id": "eiwc-UHlUReH"
   },
   "outputs": [],
   "source": [
    "data = r.json()"
   ]
  },
  {
   "cell_type": "code",
   "execution_count": 48,
   "metadata": {
    "colab": {},
    "colab_type": "code",
    "id": "prqFV-05UcaX"
   },
   "outputs": [],
   "source": [
    "layers = data['operationalLayers']"
   ]
  },
  {
   "cell_type": "code",
   "execution_count": 49,
   "metadata": {
    "colab": {},
    "colab_type": "code",
    "id": "xYjAexUfUqTq"
   },
   "outputs": [],
   "source": [
    "dels = [l for l in layers if l['id'] == 'DELEGACIONES_3932'][0]"
   ]
  },
  {
   "cell_type": "code",
   "execution_count": 50,
   "metadata": {
    "colab": {},
    "colab_type": "code",
    "id": "ZVDvSpvZU929"
   },
   "outputs": [],
   "source": [
    "del_layers = dels['featureCollection']['layers']"
   ]
  },
  {
   "cell_type": "code",
   "execution_count": 51,
   "metadata": {
    "colab": {},
    "colab_type": "code",
    "id": "dz5m-N8kVHOR"
   },
   "outputs": [],
   "source": [
    "del_fset = del_layers[0]['featureSet']"
   ]
  },
  {
   "cell_type": "code",
   "execution_count": 52,
   "metadata": {
    "colab": {},
    "colab_type": "code",
    "id": "IaLhQ13tVnpw"
   },
   "outputs": [],
   "source": [
    "geojson = {\n",
    "  \"type\": \"FeatureCollection\",\n",
    "  \"crs\": {\n",
    "  \"type\": \"name\",\n",
    "  \"properties\": {\n",
    "    \"name\": \"epsg:{}\".format(data['spatialReference']['wkid'])\n",
    "    }\n",
    "  },\n",
    "  \"features\": []\n",
    "}"
   ]
  },
  {
   "cell_type": "code",
   "execution_count": 53,
   "metadata": {
    "colab": {},
    "colab_type": "code",
    "id": "kdMCSNH5VI4s"
   },
   "outputs": [],
   "source": [
    "for feature in del_fset['features']:\n",
    "  d = esri2geojson(feature)\n",
    "  d['properties'] = {\"name\": d['properties']['DELEGACION']}\n",
    "  geojson['features'].append(d)"
   ]
  },
  {
   "cell_type": "code",
   "execution_count": 54,
   "metadata": {
    "colab": {},
    "colab_type": "code",
    "id": "934y0MthVam-"
   },
   "outputs": [],
   "source": [
    "json.dump(geojson, open(\"tj.json\", \"w\"), indent=2)"
   ]
  },
  {
   "cell_type": "code",
   "execution_count": 55,
   "metadata": {},
   "outputs": [],
   "source": [
    "!ogr2ogr tj.shp -t_srs \"EPSG:4326\" tj.json -s_srs \"EPSG:102100\""
   ]
  },
  {
   "cell_type": "code",
   "execution_count": 56,
   "metadata": {},
   "outputs": [],
   "source": [
    "df = gpd.read_file(\"tj.shp\")"
   ]
  },
  {
   "cell_type": "code",
   "execution_count": 57,
   "metadata": {},
   "outputs": [
    {
     "data": {
      "text/plain": [
       "{'init': 'epsg:4326'}"
      ]
     },
     "execution_count": 57,
     "metadata": {},
     "output_type": "execute_result"
    }
   ],
   "source": [
    "df.crs"
   ]
  },
  {
   "cell_type": "code",
   "execution_count": 58,
   "metadata": {},
   "outputs": [],
   "source": [
    "df.to_file(\"tijuana-districts.json\", driver=\"GeoJSON\")"
   ]
  },
  {
   "cell_type": "code",
   "execution_count": 61,
   "metadata": {},
   "outputs": [],
   "source": [
    "!rm -f *.shp\n",
    "!rm -f *.dbf\n",
    "!rm -f *.prj\n",
    "!rm -f *.shx\n",
    "!rm -f tj.json"
   ]
  },
  {
   "cell_type": "code",
   "execution_count": 60,
   "metadata": {},
   "outputs": [
    {
     "data": {
      "text/plain": [
       "<matplotlib.axes._subplots.AxesSubplot at 0x7fb5dfa9b2e8>"
      ]
     },
     "execution_count": 60,
     "metadata": {},
     "output_type": "execute_result"
    },
    {
     "data": {
      "image/png": "[encoded data removed]",
      "text/plain": [
       "<Figure size 432x288 with 1 Axes>"
      ]
     },
     "metadata": {
      "needs_background": "light"
     },
     "output_type": "display_data"
    }
   ],
   "source": [
    "df.plot()"
   ]
  }
 ],
 "metadata": {
  "colab": {
   "name": "TJ Map scrape",
   "provenance": [],
   "version": "0.3.2"
  },
  "kernelspec": {
   "display_name": "Python 3",
   "language": "python",
   "name": "python3"
  },
  "language_info": {
   "codemirror_mode": {
    "name": "ipython",
    "version": 3
   },
   "file_extension": ".py",
   "mimetype": "text/x-python",
   "name": "python",
   "nbconvert_exporter": "python",
   "pygments_lexer": "ipython3",
   "version": "3.6.4"
  }
 },
 "nbformat": 4,
 "nbformat_minor": 2
}
